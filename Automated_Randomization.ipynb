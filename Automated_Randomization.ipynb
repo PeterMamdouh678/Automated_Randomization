{
 "cells": [
  {
   "cell_type": "code",
   "execution_count": null,
   "metadata": {
    "id": "giCAW_OOfcMI"
   },
   "outputs": [],
   "source": [
    "mp# libraries importing\n",
    "import pandas as pd\n",
    "import base64\n",
    "from datetime import datetime\n",
    "import seaborn as sns\n",
    "import matplotlib.pyplot as plt\n",
    "from mpl_toolkits.mplot3d import Axes3D\n",
    "import numpy as np\n",
    "import plotly.express as px\n",
    "\n",
    "from dateutil.relativedelta import relativedelta\n",
    "from sklearn.preprocessing import StandardScaler\n"
   ]
  },
  {
   "cell_type": "code",
   "execution_count": null,
   "metadata": {
    "id": "p1jAJRUPfgVl"
   },
   "outputs": [],
   "source": [
    "# Data reading\n",
    "\n",
    "rfm=pd.read_csv('/content/reorder second - Copy.csv')\n",
    "rfm.drop_duplicates(inplace=True)\n",
    "\n",
    "rfm =rfm.fillna(0)"
   ]
  },
  {
   "cell_type": "code",
   "execution_count": null,
   "metadata": {
    "id": "NNFF_1Q_fgSJ"
   },
   "outputs": [],
   "source": [
    "# Variables creation\n",
    "\n",
    "mean = '_mean'\n",
    "std = '_std'\n",
    "column_name = ['RETAILER_ID','district_id']\n",
    "\n",
    "fraction1 = 1/4\n",
    "fraction2 = 1/3\n",
    "fraction3 = 1/2\n",
    "\n",
    "conditions = [True,True]"
   ]
  },
  {
   "cell_type": "code",
   "execution_count": null,
   "metadata": {
    "id": "iiMT_8L9fgPg"
   },
   "outputs": [],
   "source": [
    "\n",
    "# Auto Variable Creations in a dict\n",
    "dict_for_mean_t1 = {}\n",
    "dict_for_std_t1 = {}\n",
    "\n",
    "dict_for_mean_t2 = {}\n",
    "dict_for_std_t2 = {}\n",
    "\n",
    "dict_for_mean_t3 = {}\n",
    "dict_for_std_t3 = {}\n",
    "\n",
    "for i in range(len(rfm.select_dtypes(['float','int']).columns)):\n",
    "  if any(column_names == rfm.select_dtypes(['float','int']).columns[i] for column_names in column_name):\n",
    "    continue\n",
    "  else:\n",
    "    key1 = str(rfm.select_dtypes(['float','int']).columns[i]+mean)\n",
    "    key2 = str(rfm.select_dtypes(['float','int']).columns[i]+std)\n",
    "\n",
    "    dict_for_mean_t1[key1]=1\n",
    "    dict_for_std_t1[key2]=1\n",
    "\n",
    "    dict_for_mean_t2[key1]=1\n",
    "    dict_for_std_t2[key2]=1\n",
    "\n",
    "    dict_for_mean_t3[key1]=1\n",
    "    dict_for_std_t3[key2]=1\n"
   ]
  },
  {
   "cell_type": "code",
   "execution_count": null,
   "metadata": {
    "id": "Hn60z-SHBxxS"
   },
   "outputs": [],
   "source": [
    "dict_for_std_t3"
   ]
  },
  {
   "cell_type": "code",
   "execution_count": null,
   "metadata": {
    "id": "fhTDZLOffgMi"
   },
   "outputs": [],
   "source": [
    "# automation functions\n",
    "\n",
    "# Spliting\n",
    "def treat_control():\n",
    "  total = rfm.copy()\n",
    "  # Dataframe creation\n",
    "  df_control=pd.DataFrame(columns=total.columns)\n",
    "  df_treatment1=pd.DataFrame(columns=total.columns)\n",
    "  df_treatment2=pd.DataFrame(columns=total.columns)\n",
    "  df_treatment3=pd.DataFrame(columns=total.columns)\n",
    "\n",
    "  # Groups split\n",
    "  df_control = total.sample(frac=fraction1)\n",
    "  # df_treatment1 = total.drop(df_control.index)\n",
    "  df_treatment1 = total.drop(df_control.index).sample(frac=fraction2)\n",
    "\n",
    "  df_treatment2 = pd.concat([df_treatment2, total.drop(df_control.index).drop(df_treatment1.index)]).sample(frac=fraction3)\n",
    "  df_treatment3 = pd.concat([df_treatment3, total.drop(df_control.index).drop(df_treatment1.index).drop(df_treatment2.index)])\n",
    "  return df_control, df_treatment1, df_treatment2, df_treatment3\n",
    "\n",
    "# balancing calculation\n",
    "def calculation(dict_for_mean_t1 , dict_for_std_t1, dict_for_mean_t2 , dict_for_std_t2, dict_for_mean_t3 , dict_for_std_t3):\n",
    "  global control, treat, treat2, treat3\n",
    "  control, treat,treat2,treat3=treat_control()\n",
    "\n",
    "  # T1 calculation\n",
    "  for key, value in dict_for_mean_t1.items():\n",
    "    dict_for_mean_t1[key]=np.abs((treat\\\n",
    "     [key.rstrip(mean)].mean() - control\\\n",
    "      [key.rstrip(mean)].mean()) / control\\\n",
    "       [key.rstrip(mean)].mean())\n",
    "\n",
    "  for key, value in dict_for_std_t1.items():\n",
    "    dict_for_std_t1[key]=np.abs((treat\\\n",
    "     [key.rstrip(std)].std() - control\\\n",
    "      [key.rstrip(std)].std()) / control\\\n",
    "       [key.rstrip(std)].std())\n",
    "\n",
    "  # T2 calculation\n",
    "  for key, value in dict_for_mean_t2.items():\n",
    "    dict_for_mean_t2[key]=np.abs((treat2\\\n",
    "     [key.rstrip(mean)].mean() - control\\\n",
    "      [key.rstrip(mean)].mean()) / control\\\n",
    "       [key.rstrip(mean)].mean())\n",
    "\n",
    "  for key, value in dict_for_std_t2.items():\n",
    "    dict_for_std_t2[key]=np.abs((treat2\\\n",
    "     [key.rstrip(std)].std() - control\\\n",
    "      [key.rstrip(std)].std()) / control\\\n",
    "       [key.rstrip(std)].std())\n",
    "\n",
    "  #T3 calulation\n",
    "  for key, value in dict_for_mean_t3.items():\n",
    "    dict_for_mean_t3[key]=np.abs((treat3\\\n",
    "     [key.rstrip(mean)].mean() - control\\\n",
    "      [key.rstrip(mean)].mean()) / control\\\n",
    "       [key.rstrip(mean)].mean())\n",
    "\n",
    "  for key, value in dict_for_std_t3.items():\n",
    "    dict_for_std_t3[key]=np.abs((treat3\\\n",
    "     [key.rstrip(std)].std() - control\\\n",
    "      [key.rstrip(std)].std()) / control\\\n",
    "       [key.rstrip(std)].std())\n",
    "\n",
    "  return dict_for_mean_t1 , dict_for_std_t1, dict_for_mean_t2 , dict_for_std_t2, dict_for_mean_t3 , dict_for_std_t3 , control, treat,treat2,treat3\n",
    "\n",
    "# Merge the results for only 1 treatment group\n",
    "def Merge_2(std_dict, mean_dict):\n",
    "    res = {**std_dict, **mean_dict}\n",
    "    return res\n",
    "\n",
    "# Merge the results for more than 1 treatment\n",
    "def Merge(dict_for_std_t1, dict_for_mean_t1):\n",
    "  result = {}\n",
    "\n",
    "  for key in set(dict_for_std_t1) | set(dict_for_mean_t1):\n",
    "    if key in dict_for_std_t1 and key in dict_for_mean_t1:\n",
    "      result[key+'_1'] = dict_for_std_t1[key]\n",
    "      result[key+'_2'] = dict_for_mean_t1[key]\n",
    "    elif key in dict_for_std_t1:\n",
    "      result[key+'_1'] = dict_for_std_t1[key]\n",
    "    else:\n",
    "      result[key+'_2'] = dict_for_mean_t1[key]\n",
    "\n",
    "  return result"
   ]
  },
  {
   "cell_type": "code",
   "execution_count": null,
   "metadata": {
    "id": "JtHYk9elfgKC"
   },
   "outputs": [],
   "source": [
    "# Balancing loop\n",
    "\n",
    "while any(conditions):\n",
    "\n",
    "  # calculating\n",
    "  mean_dict_t1 , std_dict_t1, mean_dict_t2 , std_dict_t2, mean_dict_t3 , std_dict_t3,contorl, treat, treat2, treat3 = calculation(dict_for_mean_t1 , dict_for_std_t1,dict_for_mean_t2 , dict_for_std_t2, dict_for_mean_t3 , dict_for_std_t3)\n",
    "\n",
    "  # Results collecting\n",
    "    # T1\n",
    "  total_t1 = Merge(mean_dict_t1, std_dict_t1)\n",
    "    # T2\n",
    "  total_t2 = Merge(mean_dict_t2, std_dict_t2)\n",
    "    # T3\n",
    "  total_t3 = Merge(mean_dict_t3, std_dict_t3)\n",
    "    # Merge results\n",
    "  total_1 = Merge(total_t1, total_t2)\n",
    "  total_2 = Merge(total_1, total_t3)\n",
    "    # Coniditons check\n",
    "  conditions = [value > 0.05 for value in total_2.values()]"
   ]
  },
  {
   "cell_type": "code",
   "execution_count": null,
   "metadata": {
    "id": "UY2G4b6oAIRG"
   },
   "outputs": [],
   "source": [
    "total_2"
   ]
  },
  {
   "cell_type": "code",
   "execution_count": null,
   "metadata": {
    "colab": {
     "base_uri": "https://localhost:8080/"
    },
    "id": "HYexpMvufgEl",
    "outputId": "6a326613-d191-43da-aabd-e7285395b081"
   },
   "outputs": [
    {
     "name": "stderr",
     "output_type": "stream",
     "text": [
      "<ipython-input-138-c050a6889698>:5: FutureWarning: The frame.append method is deprecated and will be removed from pandas in a future version. Use pandas.concat instead.\n",
      "  low=df_control.append(df_treatment1, ignore_index=True)\n"
     ]
    }
   ],
   "source": [
    "# Add the tag\n",
    "control['tag']='control'\n",
    "treat['tag']='treat'\n",
    "treat2['tag']='treat2'\n",
    "treat3['tag']='treat3'\n",
    "\n",
    "# append the lists\n",
    "low = control.append(treat, ignore_index=True)\n",
    "low = low.append(treat2, ignore_index=True)\n",
    "low = low.append(treat3, ignore_index=True)\n",
    "\n",
    "# save the data\n",
    "low.to_csv('Reorder second release.csv')"
   ]
  }
 ],
 "metadata": {
  "colab": {
   "provenance": []
  },
  "kernelspec": {
   "display_name": "Python 3",
   "language": "python",
   "name": "python3"
  },
  "language_info": {
   "codemirror_mode": {
    "name": "ipython",
    "version": 3
   },
   "file_extension": ".py",
   "mimetype": "text/x-python",
   "name": "python",
   "nbconvert_exporter": "python",
   "pygments_lexer": "ipython3",
   "version": "3.8.3"
  }
 },
 "nbformat": 4,
 "nbformat_minor": 1
}
